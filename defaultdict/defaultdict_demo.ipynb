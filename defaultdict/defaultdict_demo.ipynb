{
  "nbformat": 4,
  "nbformat_minor": 0,
  "metadata": {
    "colab": {
      "provenance": [],
      "gpuType": "T4"
    },
    "kernelspec": {
      "name": "python3",
      "display_name": "Python 3"
    },
    "language_info": {
      "name": "python"
    },
    "accelerator": "GPU"
  },
  "cells": [
    {
      "cell_type": "markdown",
      "source": [
        "Using `defaultdict` for Handling Missing Keys\n",
        "\n",
        "`collections.defaultdict` in Python is a subclass of the built-in `dict` that provides a default value for missing keys. This feature simplifies code and avoids key errors, particularly beneficial when aggregating or counting items.\n",
        "\n",
        "When To Use\n",
        "**bold text**\n",
        "* Data Aggregation: Ideal for aggregating data into a dictionary when some keys might not be present initially.\n",
        "* Counting Elements: Useful in scenarios where you need to count items and some might not have appeared before.\n",
        "* Nested Data Structures: Simplifies the creation of nested dictionaries, such as a dictionary of lists.\n",
        "\n",
        "**Benefits**\n",
        "* Simplification: Reduces the need for initial key checks or try/except blocks.\n",
        "* Flexibility: Allows specifying any default factory function, making it versatile for different use cases.\n",
        "* Readability and Maintainability: Improves code readability and maintainability by handling missing keys automatically.\n"
      ],
      "metadata": {
        "id": "Cl4v19QA2msH"
      }
    },
    {
      "cell_type": "code",
      "execution_count": 13,
      "metadata": {
        "colab": {
          "base_uri": "https://localhost:8080/"
        },
        "id": "1grRDJkZqUo-",
        "outputId": "a67ee90d-0108-47e5-93f7-d6a6f7d9ce5d"
      },
      "outputs": [
        {
          "output_type": "stream",
          "name": "stdout",
          "text": [
            "defaultdict(<class 'int'>, {'apple': 3, 'banana': 1, 'mango': 1})\n"
          ]
        }
      ],
      "source": [
        "from collections import defaultdict\n",
        "\n",
        "# Creates a default value of 0 for new keys\n",
        "word_count = defaultdict(int)\n",
        "\n",
        "# List of words we will count\n",
        "words = [\n",
        "    'apple', 'banana', 'apple',\n",
        "    'mango', 'apple'\n",
        "]\n",
        "\n",
        "# Count the frequency of words in a list\n",
        "for word in words:\n",
        "\tword_count[word] += 1\n",
        "\n",
        "print(word_count)"
      ]
    }
  ]
}