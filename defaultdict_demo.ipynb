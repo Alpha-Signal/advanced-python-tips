{
  "nbformat": 4,
  "nbformat_minor": 0,
  "metadata": {
    "colab": {
      "provenance": [],
      "gpuType": "T4"
    },
    "kernelspec": {
      "name": "python3",
      "display_name": "Python 3"
    },
    "language_info": {
      "name": "python"
    },
    "accelerator": "GPU"
  },
  "cells": [
    {
      "cell_type": "code",
      "execution_count": 13,
      "metadata": {
        "colab": {
          "base_uri": "https://localhost:8080/"
        },
        "id": "1grRDJkZqUo-",
        "outputId": "a67ee90d-0108-47e5-93f7-d6a6f7d9ce5d"
      },
      "outputs": [
        {
          "output_type": "stream",
          "name": "stdout",
          "text": [
            "defaultdict(<class 'int'>, {'apple': 3, 'banana': 1, 'mango': 1})\n"
          ]
        }
      ],
      "source": [
        "from collections import defaultdict\n",
        "\n",
        "# Creates a default value of 0 for new keys\n",
        "word_count = defaultdict(int)\n",
        "\n",
        "# List of words we will count\n",
        "words = [\n",
        "    'apple', 'banana', 'apple',\n",
        "    'mango', 'apple'\n",
        "]\n",
        "\n",
        "# Count the frequency of words in a list\n",
        "for word in words:\n",
        "\tword_count[word] += 1\n",
        "\n",
        "print(word_count)"
      ]
    }
  ]
}